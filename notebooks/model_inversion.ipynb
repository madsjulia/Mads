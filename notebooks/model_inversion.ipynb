{
 "cells": [
  {
   "cell_type": "markdown",
   "source": [
    "# Mads notebook: General model inversion problem"
   ],
   "metadata": {}
  },
  {
   "cell_type": "markdown",
   "source": [
    "## Problem setup"
   ],
   "metadata": {}
  },
  {
   "cell_type": "markdown",
   "source": [
    "Import Mads"
   ],
   "metadata": {}
  },
  {
   "cell_type": "code",
   "execution_count": 1,
   "source": [
    "import Mads"
   ],
   "outputs": [
    {
     "output_type": "stream",
     "name": "stderr",
     "text": [
      "┌ Info: Precompiling Mads [d6bdc55b-bd94-5012-933c-1f73fc2ee992]\n",
      "└ @ Base loading.jl:1317\n"
     ]
    },
    {
     "output_type": "stream",
     "name": "stdout",
     "text": [
      "\u001b[1mMads: Model Analysis & Decision Support\u001b[0m\n",
      "====\n",
      "\n",
      "\u001b[1m\u001b[34m    ___      ____    \u001b[1m\u001b[31m        ____   \u001b[1m\u001b[32m ____         \u001b[1m\u001b[35m     ______\u001b[0m\n",
      "\u001b[1m\u001b[34m   /   \\    /    \\  \u001b[1m\u001b[31m        /    | \u001b[1m\u001b[32m |    \\     \u001b[1m\u001b[35m       /  __  \\\u001b[0m\n",
      "\u001b[1m\u001b[34m  |     \\  /     |   \u001b[1m\u001b[31m      /     |  \u001b[1m\u001b[32m|     \\     \u001b[1m\u001b[35m     /  /  \\__\\\u001b[0m\n",
      "\u001b[1m\u001b[34m  |  |\\  \\/  /|  | \u001b[1m\u001b[31m       /      | \u001b[1m\u001b[32m |      \\   \u001b[1m\u001b[35m     |  |\u001b[0m\n",
      "\u001b[1m\u001b[34m  |  | \\    / |  |  \u001b[1m\u001b[31m     /  /|   | \u001b[1m\u001b[32m |   |\\  \\   \u001b[1m\u001b[35m     \\  \\______.\u001b[0m\n",
      "\u001b[1m\u001b[34m  |  |  \\__/  |  |  \u001b[1m\u001b[31m    /  / |   | \u001b[1m\u001b[32m |   | \\  \\  \u001b[1m\u001b[35m      \\_______  \\\u001b[0m\n",
      "\u001b[1m\u001b[34m  |  |        |  | \u001b[1m\u001b[31m    /  /  |   | \u001b[1m\u001b[32m |   |  \\  \\  \u001b[1m\u001b[35m             \\  \\\u001b[0m\n",
      "\u001b[1m\u001b[34m  |  |        |  |  \u001b[1m\u001b[31m  /  /===|   | \u001b[1m\u001b[32m |   |___\\  \\ \u001b[1m\u001b[35m   __.        |  |\u001b[0m\n",
      "\u001b[1m\u001b[34m  |  |        |  | \u001b[1m\u001b[31m  /  /    |   | \u001b[1m\u001b[32m |           \\  \u001b[1m\u001b[35m \\  \\______/  /\u001b[0m\n",
      "\u001b[1m\u001b[34m  |__|        |__| \u001b[1m\u001b[31m /__/     |___| \u001b[1m\u001b[32m |____________\\ \u001b[1m\u001b[35m  \\__________/\u001b[0m\n",
      "\n",
      "\u001b[1mMADS\u001b[0m is an integrated high-performance computational framework for data- and model-based analyses.\n",
      "\u001b[1mMADS\u001b[0m can perform: Sensitivity Analysis, Parameter Estimation, Model Inversion and Calibration, Uncertainty Quantification, Model Selection and Model Averaging, Model Reduction and Surrogate Modeling, Machine Learning, Decision Analysis and Support.\n"
     ]
    },
    {
     "output_type": "stream",
     "name": "stderr",
     "text": [
      "WARNING: Method definition getparamsmin(Base.AbstractDict{K, V} where V where K) in module Mads at /Users/vvv/.julia/dev/Mads/src/MadsParameters.jl:148 overwritten at /Users/vvv/.julia/dev/Mads/src/MadsParameters.jl:170.\n",
      "  ** incremental compilation may be fatally broken for this module **\n",
      "\n",
      "\u001b[32m\u001b[1m    Updating\u001b[22m\u001b[39m registry at `~/.julia/registries/General`\n",
      "\u001b[33m\u001b[1m┌ \u001b[22m\u001b[39m\u001b[33m\u001b[1mWarning: \u001b[22m\u001b[39mcould not download https://pkg.julialang.org/registries\n",
      "\u001b[33m\u001b[1m└ \u001b[22m\u001b[39m\u001b[90m@ Pkg.Types /Users/julia/buildbot/worker/package_macos64/build/usr/share/julia/stdlib/v1.6/Pkg/src/Types.jl:980\u001b[39m\n",
      "\u001b[32m\u001b[1m   Resolving\u001b[22m\u001b[39m package versions...\n",
      "\u001b[36m\u001b[1m[ \u001b[22m\u001b[39m\u001b[36m\u001b[1mInfo: \u001b[22m\u001b[39mModule BIGUQ is not available!\n",
      "┌ Info: Installing pyqt package to avoid buggy tkagg backend.\n",
      "└ @ PyPlot /Users/vvv/.julia/packages/PyPlot/XHEG0/src/init.jl:118\n"
     ]
    }
   ],
   "metadata": {}
  },
  {
   "cell_type": "markdown",
   "source": [
    "Create a problem dictionary:"
   ],
   "metadata": {}
  },
  {
   "cell_type": "code",
   "execution_count": 2,
   "source": [
    "md = Dict()"
   ],
   "outputs": [
    {
     "output_type": "execute_result",
     "data": {
      "text/plain": [
       "Dict{Any, Any}()"
      ]
     },
     "metadata": {},
     "execution_count": 2
    }
   ],
   "metadata": {}
  },
  {
   "cell_type": "markdown",
   "source": [
    "Setup model parameters:"
   ],
   "metadata": {}
  },
  {
   "cell_type": "code",
   "execution_count": 3,
   "source": [
    "md[\"Parameters\"] = Mads.createmadsparameters([1,1,1,1]; key=[\"a\", \"b\", \"c\", \"n\"], dist=[\"Uniform(-10, 10)\", \"Uniform(-10, 10)\", \"Uniform(-5, 5)\", \"Uniform(-3, 3)\"])"
   ],
   "outputs": [
    {
     "output_type": "execute_result",
     "data": {
      "text/plain": [
       "OrderedCollections.OrderedDict{Any, Any} with 4 entries:\n",
       "  \"a\" => OrderedCollections.OrderedDict{String, Any}(\"init\"=>1, \"type\"=>\"opt\", …\n",
       "  \"b\" => OrderedCollections.OrderedDict{String, Any}(\"init\"=>1, \"type\"=>\"opt\", …\n",
       "  \"c\" => OrderedCollections.OrderedDict{String, Any}(\"init\"=>1, \"type\"=>\"opt\", …\n",
       "  \"n\" => OrderedCollections.OrderedDict{String, Any}(\"init\"=>1, \"type\"=>\"opt\", …"
      ]
     },
     "metadata": {},
     "execution_count": 3
    }
   ],
   "metadata": {}
  },
  {
   "cell_type": "markdown",
   "source": [
    "There are 4 model parameters (`a`, `b`, `c`, and `n`). The initial values and the prior distributions of the parameters are defined for each parameter."
   ],
   "metadata": {}
  },
  {
   "cell_type": "code",
   "execution_count": 5,
   "source": [
    "md[\"Observations\"] = Mads.createmadsobservations([0,1.1,1.9,3.1,3.9,5]; weight=[1,1,1,1,1,0], time=[0,1,2,3,4,5], dist=[\"Uniform(0, 1)\", \"Uniform(0, 2)\", \"Uniform(1, 3)\", \"Uniform(2, 4)\", \"Uniform(3, 5)\", \"Uniform(4, 6)\"])"
   ],
   "outputs": [
    {
     "output_type": "stream",
     "name": "stdout",
     "text": [
      "dist = [\"Uniform(0, 1)\", \"Uniform(0, 2)\", \"Uniform(1, 3)\", \"Uniform(2, 4)\", \"Uniform(3, 5)\", \"Uniform(4, 6)\"]\n"
     ]
    },
    {
     "output_type": "execute_result",
     "data": {
      "text/plain": [
       "OrderedCollections.OrderedDict{Any, Any} with 6 entries:\n",
       "  \"o1\" => OrderedCollections.OrderedDict{String, Any}(\"target\"=>0.0, \"weight\"=>…\n",
       "  \"o2\" => OrderedCollections.OrderedDict{String, Any}(\"target\"=>1.1, \"weight\"=>…\n",
       "  \"o3\" => OrderedCollections.OrderedDict{String, Any}(\"target\"=>1.9, \"weight\"=>…\n",
       "  \"o4\" => OrderedCollections.OrderedDict{String, Any}(\"target\"=>3.1, \"weight\"=>…\n",
       "  \"o5\" => OrderedCollections.OrderedDict{String, Any}(\"target\"=>3.9, \"weight\"=>…\n",
       "  \"o6\" => OrderedCollections.OrderedDict{String, Any}(\"target\"=>5.0, \"weight\"=>…"
      ]
     },
     "metadata": {},
     "execution_count": 5
    }
   ],
   "metadata": {}
  },
  {
   "cell_type": "markdown",
   "source": [
    "There are 6 observations (`o1`, `o2`, `o3`, ... and `o6`). The calibration targets, observation weights (i.e., inverse of measurement standard deviations), and acceptable ranges are defined for each observation."
   ],
   "metadata": {}
  },
  {
   "cell_type": "markdown",
   "source": [
    "A function (called `polynominal`) is defined to compute the 6 observations given 4 parameters as an input:"
   ],
   "metadata": {}
  },
  {
   "cell_type": "code",
   "execution_count": 8,
   "source": [
    "function polynominal(parameters::AbstractVector)\n",
    "\tf(t) = parameters[1] * (t ^ parameters[4]) + parameters[2] * t + parameters[3] # a * t^n + b * t + c\n",
    "\tpredictions = map(f, 0:5)\n",
    "\treturn predictions\n",
    "end"
   ],
   "outputs": [
    {
     "output_type": "execute_result",
     "data": {
      "text/plain": [
       "polynominal (generic function with 1 method)"
      ]
     },
     "metadata": {},
     "execution_count": 8
    }
   ],
   "metadata": {}
  },
  {
   "cell_type": "markdown",
   "source": [
    "The function is setup now in the `md` dictionary as a function that will be applied to perform model simulation:"
   ],
   "metadata": {}
  },
  {
   "cell_type": "code",
   "execution_count": 9,
   "source": [
    "Mads.createmadsexecutable!(md, polynominal)"
   ],
   "outputs": [
    {
     "output_type": "execute_result",
     "data": {
      "text/plain": [
       "(::Mads.var\"#madscommandfunctionwithexpressions#159\") (generic function with 1 method)"
      ]
     },
     "metadata": {},
     "execution_count": 9
    }
   ],
   "metadata": {}
  },
  {
   "cell_type": "code",
   "execution_count": 10,
   "source": [
    "display(md)"
   ],
   "outputs": [
    {
     "output_type": "display_data",
     "data": {
      "text/plain": [
       "Dict{Any, Any} with 3 entries:\n",
       "  \"Julia function\" => polynominal\n",
       "  \"Parameters\"     => OrderedCollections.OrderedDict{Any, Any}(\"a\"=>OrderedColl…\n",
       "  \"Observations\"   => OrderedCollections.OrderedDict{Any, Any}(\"o1\"=>OrderedCol…"
      ]
     },
     "metadata": {}
    }
   ],
   "metadata": {}
  },
  {
   "cell_type": "markdown",
   "source": [
    "Now the problem is setup!"
   ],
   "metadata": {}
  },
  {
   "cell_type": "markdown",
   "source": [
    "## Forward model simulation"
   ],
   "metadata": {}
  },
  {
   "cell_type": "markdown",
   "source": [
    "A single forward model run based on the initial model parameters cane be executed as follows:"
   ],
   "metadata": {}
  },
  {
   "cell_type": "code",
   "execution_count": 11,
   "source": [
    "Mads.forward(md)"
   ],
   "outputs": [
    {
     "output_type": "execute_result",
     "data": {
      "text/plain": [
       "OrderedCollections.OrderedDict{Any, Float64} with 6 entries:\n",
       "  \"o1\" => 1.0\n",
       "  \"o2\" => 3.0\n",
       "  \"o3\" => 5.0\n",
       "  \"o4\" => 7.0\n",
       "  \"o5\" => 9.0\n",
       "  \"o6\" => 11.0"
      ]
     },
     "metadata": {},
     "execution_count": 11
    }
   ],
   "metadata": {}
  },
  {
   "cell_type": "markdown",
   "source": [
    "The initial model predctions can be plotted as well:"
   ],
   "metadata": {}
  },
  {
   "cell_type": "code",
   "execution_count": 13,
   "source": [
    "Mads.plotmatches(md)"
   ],
   "outputs": [
    {
     "output_type": "display_data",
     "data": {
      "text/plain": [
       "Compose.Image{Compose.PNGBackend}(IOBuffer(data=UInt8[...], readable=true, writable=true, seekable=true, append=false, size=28671, maxsize=Inf, ptr=28672, mark=-1), Cairo.CairoSurfaceBase{UInt32}(Ptr{Nothing} @0x0000000000000000, 756.0, 378.0), Cairo.CairoContext(Ptr{Nothing} @0x0000000000000000, Cairo.CairoSurfaceBase{UInt32}(Ptr{Nothing} @0x0000000000000000, 756.0, 378.0), Ptr{Nothing} @0x00007fd29594f340), 755.9055118110236, 377.9527559055118, RGBA{Float64}(0.0,0.0,0.0,0.0), RGBA{Float64}(0.0,0.0,0.0,1.0), Float64[], Compose.LineCapButt(), Compose.LineJoinMiter(), true, 0.3mm, 3.880555555555555mm, \"Helvetica Neue,Helvetica,Arial,sans\", nothing, false, Compose.ImagePropertyState[], Compose.ImagePropertyFrame[], Dict{Type, Union{Nothing, Compose.Property}}(), true, false, nothing, true, true, 3.7795275590551185, nothing, nothing)"
      ],
      "image/png": "[encoded data removed]"
     },
     "metadata": {}
    },
    {
     "output_type": "stream",
     "name": "stdout",
     "text": []
    }
   ],
   "metadata": {}
  },
  {
   "cell_type": "markdown",
   "source": [
    "The figure above shows that the `true` observations are not well reproduced by the model using the initial model parameter guesses."
   ],
   "metadata": {}
  },
  {
   "cell_type": "markdown",
   "source": [
    "The forward model run can be also executed using the following command (not recommended):"
   ],
   "metadata": {}
  },
  {
   "cell_type": "code",
   "execution_count": 14,
   "source": [
    "polynominal(Mads.getparamsinit(md))"
   ],
   "outputs": [
    {
     "output_type": "execute_result",
     "data": {
      "text/plain": [
       "6-element Vector{Float64}:\n",
       "  1.0\n",
       "  3.0\n",
       "  5.0\n",
       "  7.0\n",
       "  9.0\n",
       " 11.0"
      ]
     },
     "metadata": {},
     "execution_count": 14
    }
   ],
   "metadata": {}
  },
  {
   "cell_type": "markdown",
   "source": [
    "## Model calibration (inversion)"
   ],
   "metadata": {}
  },
  {
   "cell_type": "markdown",
   "source": [
    "The calibation (inversion) of the developed model is achieved using the following command:"
   ],
   "metadata": {}
  },
  {
   "cell_type": "code",
   "execution_count": 15,
   "source": [
    "calib_param, calib_result = Mads.calibrate(md)"
   ],
   "outputs": [
    {
     "output_type": "execute_result",
     "data": {
      "text/plain": [
       "(OrderedCollections.OrderedDict(\"a\" => 0.6256803226615766, \"b\" => 0.41174389306488735, \"c\" => 0.007161248225937555, \"n\" => 0.9333357469539947), OptimBase.MultivariateOptimizationResults{LsqFit.LevenbergMarquardt, Float64, 1}(LsqFit.LevenbergMarquardt(), [0.10016742116155988, 0.10016742116155988, 0.20135792079033074, 0.33983690945412187], [0.06260892747426644, 0.041186032222910604, 0.001432250134859606, 0.31636278655144184], 0.03296094110975696, 5, false, true, 0.0001, 0.0, false, 0.001, 0.0, false, 1.0e-6, 0.0, false, Iter     Function value   Gradient norm \n",
       "------   --------------   --------------\n",
       ", 71, 5, 0))"
      ]
     },
     "metadata": {},
     "execution_count": 15
    }
   ],
   "metadata": {}
  },
  {
   "cell_type": "code",
   "execution_count": 16,
   "source": [
    "Mads.plotmatches(md, calib_param)"
   ],
   "outputs": [
    {
     "output_type": "display_data",
     "data": {
      "text/plain": [
       "Compose.Image{Compose.PNGBackend}(IOBuffer(data=UInt8[...], readable=true, writable=true, seekable=true, append=false, size=36629, maxsize=Inf, ptr=36630, mark=-1), Cairo.CairoSurfaceBase{UInt32}(Ptr{Nothing} @0x0000000000000000, 756.0, 378.0), Cairo.CairoContext(Ptr{Nothing} @0x0000000000000000, Cairo.CairoSurfaceBase{UInt32}(Ptr{Nothing} @0x0000000000000000, 756.0, 378.0), Ptr{Nothing} @0x00007fd29594f340), 755.9055118110236, 377.9527559055118, RGBA{Float64}(0.0,0.0,0.0,0.0), RGBA{Float64}(0.0,0.0,0.0,1.0), Float64[], Compose.LineCapButt(), Compose.LineJoinMiter(), true, 0.3mm, 3.880555555555555mm, \"Helvetica Neue,Helvetica,Arial,sans\", nothing, false, Compose.ImagePropertyState[], Compose.ImagePropertyFrame[], Dict{Type, Union{Nothing, Compose.Property}}(), true, false, nothing, true, true, 3.7795275590551185, nothing, nothing)"
      ],
      "image/png": "[encoded data removed]"
     },
     "metadata": {}
    },
    {
     "output_type": "stream",
     "name": "stdout",
     "text": []
    }
   ],
   "metadata": {}
  },
  {
   "cell_type": "markdown",
   "source": [
    "Initial values of the model parameters are:"
   ],
   "metadata": {}
  },
  {
   "cell_type": "code",
   "execution_count": 18,
   "source": [
    "Mads.showparameterestimates(md)"
   ],
   "outputs": [
    {
     "output_type": "stream",
     "name": "stdout",
     "text": [
      "a =         0.62568 distribution = Uniform(-10, 10) \n",
      "b =        0.411744 distribution = Uniform(-10, 10) \n",
      "c =      0.00716125 distribution = Uniform(-5, 5) \n",
      "n =        0.933336 distribution = Uniform(-3, 3) \n",
      "Number of optimizable parameters: 4\n"
     ]
    }
   ],
   "metadata": {}
  },
  {
   "cell_type": "markdown",
   "source": [
    "Estimated values of the model parameters based on the model calibration (inversion) are:"
   ],
   "metadata": {}
  },
  {
   "cell_type": "code",
   "execution_count": 17,
   "source": [
    "Mads.showparameterestimates(md, calib_param)"
   ],
   "outputs": [
    {
     "output_type": "stream",
     "name": "stdout",
     "text": [
      "a =         0.62568 distribution = Uniform(-10, 10) \n",
      "b =        0.411744 distribution = Uniform(-10, 10) \n",
      "c =      0.00716125 distribution = Uniform(-5, 5) \n",
      "n =        0.933336 distribution = Uniform(-3, 3) \n",
      "Number of optimizable parameters: 4\n"
     ]
    }
   ],
   "metadata": {}
  },
  {
   "cell_type": "markdown",
   "source": [
    "## Evaluation of posterior uncertainties"
   ],
   "metadata": {}
  },
  {
   "cell_type": "code",
   "execution_count": 19,
   "source": [
    "chain, llhoods = Mads.emceesampling(md; numwalkers=10, nsteps=100000, burnin=10000, thinning=10, seed=2016, sigma=0.01)"
   ],
   "outputs": [
    {
     "output_type": "execute_result",
     "data": {
      "text/plain": [
       "([-0.5161681161514753 0.4310534503605993 … 1.3435463956432714 -6.037274929257502; 1.099993870797083 0.21053553308081496 … 0.14021892507891523 6.42210283505251; 0.5669485175185572 0.02950657976720434 … -0.9756470623036929 1.8169811174159847; 0.6755641814397039 1.4687373559971677 … 0.9002988581678445 0.9881481861254896], [-10.574736991454202, -10.486785949222988, -13.182145642280403, -10.41445533247353, -12.669515403168115, -11.204527258147843, -12.542495751389929, -11.705958635715827, -11.22715953608083, -11.896260451018438  …  -11.661853782683567, -13.151676887561747, -11.585825923354202, -11.132019231238198, -10.612265161164753, -12.800807452056192, -12.106692065717652, -10.359122622585183, -11.531204881108028, -15.251841613490315])"
      ]
     },
     "metadata": {},
     "execution_count": 19
    }
   ],
   "metadata": {}
  },
  {
   "cell_type": "code",
   "execution_count": 21,
   "source": [
    "f = Mads.forward(md, chain)"
   ],
   "outputs": [
    {
     "output_type": "execute_result",
     "data": {
      "text/plain": [
       "6×10000 Matrix{Float64}:\n",
       " 0.566949  0.0295066  0.317173  0.438424  …  0.255834  -0.975647  1.81698\n",
       " 1.15077   0.671096   0.58877   0.983947     0.758063   0.508118  2.20181\n",
       " 1.9425    1.64365    2.0211    1.89364      1.75992    1.81246   2.68542\n",
       " 2.78271   2.82531    3.67446   2.99384      2.86572    3.05748   3.20576\n",
       " 3.65012   4.17382    5.44587   4.23414      4.02819    4.26567   3.74982\n",
       " 4.53586   5.66502    7.29431   5.58779   …  5.22815    5.44727   4.31146"
      ]
     },
     "metadata": {},
     "execution_count": 21
    }
   ],
   "metadata": {}
  },
  {
   "cell_type": "code",
   "execution_count": 24,
   "source": [
    "Mads.spaghettiplot(md, permutedims(f))"
   ],
   "outputs": [
    {
     "output_type": "stream",
     "name": "stderr",
     "text": [
      "StackOverflowError:┌ Warning: 2021-06-25 16:39:18 Spaghettiplot: Gadfly fails!\n",
      "└ @ Mads /Users/vvv/.julia/dev/Mads/src/MadsLog.jl:53\n",
      "StackOverflowError:┌ Warning: Gadfly failed!\n",
      "└ @ Mads /Users/vvv/.julia/dev/Mads/src-interactive/MadsDisplay.jl:92\n"
     ]
    }
   ],
   "metadata": {}
  },
  {
   "cell_type": "code",
   "execution_count": null,
   "source": [],
   "outputs": [],
   "metadata": {}
  }
 ],
 "metadata": {
  "orig_nbformat": 4,
  "language_info": {
   "name": "julia"
  }
 },
 "nbformat": 4,
 "nbformat_minor": 2
}